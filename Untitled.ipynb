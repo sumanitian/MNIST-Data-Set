{
 "cells": [
  {
   "cell_type": "code",
   "execution_count": 5,
   "id": "c03bb96e",
   "metadata": {},
   "outputs": [
    {
     "name": "stdout",
     "output_type": "stream",
     "text": [
      "   label  1x1  1x2  1x3  1x4  1x5  1x6  1x7  1x8  1x9  ...  28x19  28x20  \\\n",
      "0      5    0    0    0    0    0    0    0    0    0  ...      0      0   \n",
      "1      0    0    0    0    0    0    0    0    0    0  ...      0      0   \n",
      "2      4    0    0    0    0    0    0    0    0    0  ...      0      0   \n",
      "3      1    0    0    0    0    0    0    0    0    0  ...      0      0   \n",
      "4      9    0    0    0    0    0    0    0    0    0  ...      0      0   \n",
      "\n",
      "   28x21  28x22  28x23  28x24  28x25  28x26  28x27  28x28  \n",
      "0      0      0      0      0      0      0      0      0  \n",
      "1      0      0      0      0      0      0      0      0  \n",
      "2      0      0      0      0      0      0      0      0  \n",
      "3      0      0      0      0      0      0      0      0  \n",
      "4      0      0      0      0      0      0      0      0  \n",
      "\n",
      "[5 rows x 785 columns]\n"
     ]
    }
   ],
   "source": [
    "# https://www.kaggle.com/datasets/oddrationale/mnist-in-csv?select=mnist_train.csv\n",
    "import numpy as np\n",
    "import matplotlib.pyplot as plt\n",
    "import pandas as pd\n",
    "\n",
    "# In CSV file, the first row is a header which tells us what are the fields - column names\n",
    "d0 = pd.read_csv('mnist_train.csv') # reading the file\n",
    "\n",
    "print(d0.head(5)) # print first 5 rows of d0.\n",
    "\n",
    "# The first column tells what are the digits it is representing. \n",
    "# The rest of the 784 columns indexed from pixel0 to pixel783.\n",
    "\n",
    "# l stores all the class labels - save the variables into a variable l.\n",
    "l = d0['label']\n",
    "\n",
    "# d stores all the data - Drop the label feature and store the pixel data in d.\n",
    "d = d0.drop(\"label\", axis=1)\n",
    "\n",
    "# d[i] ---> l[i], if we take iᵗʰ row of d, the corresponding label will be l[i]"
   ]
  },
  {
   "cell_type": "code",
   "execution_count": 6,
   "id": "8848d1c2",
   "metadata": {},
   "outputs": [
    {
     "name": "stdout",
     "output_type": "stream",
     "text": [
      "(60000, 784)\n",
      "(60000,)\n"
     ]
    }
   ],
   "source": [
    "print(d.shape)\n",
    "print(l.shape)"
   ]
  },
  {
   "cell_type": "code",
   "execution_count": 23,
   "id": "42a78eab",
   "metadata": {},
   "outputs": [
    {
     "data": {
      "image/png": "[encoded data removed]",
      "text/plain": [
       "<Figure size 504x504 with 1 Axes>"
      ]
     },
     "metadata": {
      "needs_background": "light"
     },
     "output_type": "display_data"
    },
    {
     "name": "stdout",
     "output_type": "stream",
     "text": [
      "9\n"
     ]
    }
   ],
   "source": [
    "# display or plot a number\n",
    "plt.figure(figsize=(7, 7))\n",
    "idx = 110  \n",
    "\n",
    "grid_data = d.iloc[idx].to_numpy().reshape(28, 28)  # reshape 1-D to 2-D\n",
    "\n",
    "#matplotlib has a function called image show(); cmap - color map\n",
    "plt.imshow(grid_data, interpolation=\"none\", cmap=\"gray\") \n",
    "plt.show()\n",
    "\n",
    "print(l[idx])   # in l-vector 110 value is 9"
   ]
  },
  {
   "cell_type": "code",
   "execution_count": null,
   "id": "ebbcfa3a",
   "metadata": {},
   "outputs": [],
   "source": []
  },
  {
   "cell_type": "code",
   "execution_count": null,
   "id": "4256e07b",
   "metadata": {},
   "outputs": [],
   "source": []
  }
 ],
 "metadata": {
  "kernelspec": {
   "display_name": "Python 3",
   "language": "python",
   "name": "python3"
  },
  "language_info": {
   "codemirror_mode": {
    "name": "ipython",
    "version": 3
   },
   "file_extension": ".py",
   "mimetype": "text/x-python",
   "name": "python",
   "nbconvert_exporter": "python",
   "pygments_lexer": "ipython3",
   "version": "3.8.8"
  }
 },
 "nbformat": 4,
 "nbformat_minor": 5
}
